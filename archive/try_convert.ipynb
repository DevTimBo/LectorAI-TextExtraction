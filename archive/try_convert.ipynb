{
 "cells": [
  {
   "cell_type": "code",
   "execution_count": null,
   "metadata": {},
   "outputs": [],
   "source": [
    "import onnx\n",
    "import onnx_tf\n",
    "from onnx_tf.backend import prepare\n",
    "import tensorflow as tf\n",
    "from ultralytics import YOLO\n",
    "import cv2\n",
    "import numpy as np"
   ]
  },
  {
   "cell_type": "code",
   "execution_count": null,
   "metadata": {},
   "outputs": [],
   "source": [
    "# Load YOLOv8 model\n",
    "model = YOLO('try/sub/best.pt')  # Replace with your model path\n",
    "\n",
    "# Convert to ONNX\n",
    "success = model.export(format='onnx') \n",
    "\n",
    "if not success:\n",
    "    raise RuntimeError(\"ONNX export failed\")\n"
   ]
  },
  {
   "cell_type": "code",
   "execution_count": null,
   "metadata": {},
   "outputs": [],
   "source": [
    "# Load ONNX model\n",
    "onnx_model = onnx.load('best.onnx')  # Replace with your ONNX file path\n",
    "\n",
    "# Prepare TensorFlow model (includes weights)\n",
    "tf_rep = prepare(onnx_model)\n",
    "\n",
    "# Export TensorFlow SavedModel (includes weights)\n",
    "tf_rep.export_graph(\"try/tf_model\")\n"
   ]
  },
  {
   "cell_type": "code",
   "execution_count": null,
   "metadata": {},
   "outputs": [],
   "source": [
    "# Load TensorFlow SavedModel (with weights)\n",
    "tf_model = tf.saved_model.load(\"try/tf_model\")\n",
    "\n",
    "# Make predictions\n",
    "image = cv2.imread(\"data/Jason_Ad_2.jpg\")\n",
    "resized_image = cv2.resize(image, (1024, 1024)) # nathans size\n",
    "resized_image = np.expand_dims(resized_image, axis=0)\n",
    "resized_image = tf.convert_to_tensor(resized_image, dtype=tf.float32)\n",
    "resized_image = tf.transpose(resized_image, perm=[0, 3, 2, 1])\n",
    "output_dict = tf_model(images = resized_image)\n",
    "\n",
    "# Process predictions (boxes, scores, classes)\n",
    "boxes = output_dict['output0']\n",
    "scores = output_dict['output1']\n",
    "classes = output_dict['classes']"
   ]
  }
 ],
 "metadata": {
  "kernelspec": {
   "display_name": "everything",
   "language": "python",
   "name": "python3"
  },
  "language_info": {
   "codemirror_mode": {
    "name": "ipython",
    "version": 3
   },
   "file_extension": ".py",
   "mimetype": "text/x-python",
   "name": "python",
   "nbconvert_exporter": "python",
   "pygments_lexer": "ipython3",
   "version": "3.9.19"
  }
 },
 "nbformat": 4,
 "nbformat_minor": 2
}
