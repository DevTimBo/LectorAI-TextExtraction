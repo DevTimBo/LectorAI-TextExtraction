{
 "cells": [
  {
   "cell_type": "markdown",
   "metadata": {},
   "source": [
    "## TrOCR"
   ]
  },
  {
   "cell_type": "code",
   "execution_count": null,
   "metadata": {},
   "outputs": [],
   "source": [
    "import os\n",
    "from PIL import Image\n",
    "from transformers import TrOCRProcessor, VisionEncoderDecoderModel"
   ]
  },
  {
   "cell_type": "code",
   "execution_count": null,
   "metadata": {},
   "outputs": [],
   "source": [
    "base_model_name = \"microsoft/trocr-small-handwritten\"\n",
    "save_model_name = \"models/trocr/trocr-small-handwritten-finetuned\""
   ]
  },
  {
   "cell_type": "code",
   "execution_count": null,
   "metadata": {},
   "outputs": [],
   "source": [
    "def trocr_inference(model, processor, image_path):\n",
    "    image = Image.open(image_path)\n",
    "    pixel_values = processor(images=image, return_tensors=\"pt\").pixel_values\n",
    "    generated_ids = model.generate(pixel_values)\n",
    "    generated_text = processor.batch_decode(generated_ids, skip_special_tokens=True)[0]\n",
    "    return generated_text"
   ]
  },
  {
   "cell_type": "code",
   "execution_count": null,
   "metadata": {},
   "outputs": [],
   "source": [
    "processor = TrOCRProcessor.from_pretrained(base_model_name)\n",
    "model = VisionEncoderDecoderModel.from_pretrained(save_model_name)"
   ]
  },
  {
   "cell_type": "markdown",
   "metadata": {},
   "source": [
    "## Our Goat"
   ]
  },
  {
   "cell_type": "code",
   "execution_count": null,
   "metadata": {},
   "outputs": [],
   "source": [
    "from inference_smartapp import handwriting_model"
   ]
  },
  {
   "cell_type": "markdown",
   "metadata": {},
   "source": [
    "## TEST"
   ]
  },
  {
   "cell_type": "code",
   "execution_count": null,
   "metadata": {},
   "outputs": [],
   "source": [
    "dataset_path = 'dataset/transfer_dataset/'\n",
    "val_dataset_path = os.path.join(dataset_path, 'val')"
   ]
  },
  {
   "cell_type": "code",
   "execution_count": null,
   "metadata": {},
   "outputs": [],
   "source": [
    "from Levenshtein import distance\n",
    "import tensorflow as tf"
   ]
  },
  {
   "cell_type": "code",
   "execution_count": null,
   "metadata": {},
   "outputs": [],
   "source": [
    "val_df_list = os.listdir(val_dataset_path)\n",
    "val_df_jpg_list = [val_df_list[i] for i in range(len(val_df_list)) if val_df_list[i].endswith('.jpg')]\n",
    "val_df_jpg_list = [os.path.join(val_dataset_path, val_df_jpg_list[i]) for i in range(len(val_df_jpg_list)) ]"
   ]
  },
  {
   "cell_type": "code",
   "execution_count": null,
   "metadata": {},
   "outputs": [],
   "source": [
    "goat_distances = []\n",
    "trocr_distances = []\n",
    "\n",
    "for image_path in val_df_jpg_list:\n",
    "    image = tf.io.read_file(image_path)\n",
    "    image = tf.image.decode_png(image, 1)\n",
    "    goat_text = handwriting_model.inference(image).strip()\n",
    "    text_path = image_path.replace('.jpg', '.txt')\n",
    "    with open(text_path) as f:\n",
    "        real_text = f.read()\n",
    "    real_text = real_text.replace('|', ' ').strip()\n",
    "    trocr_text = trocr_inference(model, processor, image_path)\n",
    "    trocr_text = trocr_text.replace('|', ' ').strip()\n",
    "    print(f'TROCR: {trocr_text}')\n",
    "    print(f'GOAT: {goat_text}')\n",
    "    print(f'REAL: {real_text}')\n",
    "    goat_distance = distance(goat_text, real_text)\n",
    "    trocr_distance = distance(trocr_text, real_text)\n",
    "\n",
    "    goat_distances.append(goat_distance)\n",
    "    trocr_distances.append(trocr_distance)\n",
    "\n",
    "goat_avg_distance = sum(goat_distances) / len(goat_distances)\n",
    "trocr_avg_distance = sum(trocr_distances) / len(trocr_distances)\n",
    "\n",
    "print(f'GOAT average distance: {goat_avg_distance}')\n",
    "print(f'TROCR average distance: {trocr_avg_distance}')"
   ]
  },
  {
   "cell_type": "code",
   "execution_count": null,
   "metadata": {},
   "outputs": [],
   "source": [
    "import matplotlib.pyplot as plt\n",
    "\n",
    "# Names of modules\n",
    "modules = ['TrOCR-small', 'Model9v3_Transfer']\n",
    "\n",
    "# Corresponding values from each module\n",
    "values = [trocr_avg_distance, goat_avg_distance]\n",
    "\n",
    "# Creating the bar chart\n",
    "plt.figure(figsize=(8, 6))  # Optional: Adjust the size of the figure\n",
    "plt.bar(modules, values, color=['blue', 'green'])  # You can specify different colors for each bar\n",
    "\n",
    "# Adding titles and labels\n",
    "plt.title('Comparison of Models Values')\n",
    "plt.xlabel('Models')\n",
    "plt.ylabel('Levenshtein Distance')\n",
    "\n",
    "# Show the plot\n",
    "plt.show()\n"
   ]
  }
 ],
 "metadata": {
  "kernelspec": {
   "display_name": "tf",
   "language": "python",
   "name": "python3"
  },
  "language_info": {
   "codemirror_mode": {
    "name": "ipython",
    "version": 3
   },
   "file_extension": ".py",
   "mimetype": "text/x-python",
   "name": "python",
   "nbconvert_exporter": "python",
   "pygments_lexer": "ipython3",
   "version": "3.10.12"
  }
 },
 "nbformat": 4,
 "nbformat_minor": 2
}
