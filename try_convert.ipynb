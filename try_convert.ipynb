{
 "cells": [
  {
   "cell_type": "code",
   "execution_count": 1,
   "metadata": {},
   "outputs": [
    {
     "name": "stderr",
     "output_type": "stream",
     "text": [
      "2024-05-16 23:28:11.690302: I tensorflow/core/util/port.cc:113] oneDNN custom operations are on. You may see slightly different numerical results due to floating-point round-off errors from different computation orders. To turn them off, set the environment variable `TF_ENABLE_ONEDNN_OPTS=0`.\n",
      "2024-05-16 23:28:11.711156: E external/local_xla/xla/stream_executor/cuda/cuda_dnn.cc:9261] Unable to register cuDNN factory: Attempting to register factory for plugin cuDNN when one has already been registered\n",
      "2024-05-16 23:28:11.711180: E external/local_xla/xla/stream_executor/cuda/cuda_fft.cc:607] Unable to register cuFFT factory: Attempting to register factory for plugin cuFFT when one has already been registered\n",
      "2024-05-16 23:28:11.711806: E external/local_xla/xla/stream_executor/cuda/cuda_blas.cc:1515] Unable to register cuBLAS factory: Attempting to register factory for plugin cuBLAS when one has already been registered\n",
      "2024-05-16 23:28:11.715947: I tensorflow/core/platform/cpu_feature_guard.cc:182] This TensorFlow binary is optimized to use available CPU instructions in performance-critical operations.\n",
      "To enable the following instructions: AVX2 AVX512F AVX512_VNNI AVX512_BF16 FMA, in other operations, rebuild TensorFlow with the appropriate compiler flags.\n",
      "2024-05-16 23:28:12.193488: W tensorflow/compiler/tf2tensorrt/utils/py_utils.cc:38] TF-TRT Warning: Could not find TensorRT\n",
      "/home/sonotokay/miniconda3/envs/everything/lib/python3.10/site-packages/tensorflow_addons/utils/tfa_eol_msg.py:23: UserWarning: \n",
      "\n",
      "TensorFlow Addons (TFA) has ended development and introduction of new features.\n",
      "TFA has entered a minimal maintenance and release mode until a planned end of life in May 2024.\n",
      "Please modify downstream libraries to take dependencies from other repositories in our TensorFlow community (e.g. Keras, Keras-CV, and Keras-NLP). \n",
      "\n",
      "For more information see: https://github.com/tensorflow/addons/issues/2807 \n",
      "\n",
      "  warnings.warn(\n"
     ]
    }
   ],
   "source": [
    "import onnx\n",
    "import onnx_tf\n",
    "from onnx_tf.backend import prepare\n",
    "import tensorflow as tf\n",
    "from ultralytics import YOLO\n",
    "import cv2\n",
    "import numpy as np"
   ]
  },
  {
   "cell_type": "code",
   "execution_count": 2,
   "metadata": {},
   "outputs": [
    {
     "name": "stdout",
     "output_type": "stream",
     "text": [
      "Ultralytics YOLOv8.2.9 🚀 Python-3.10.14 torch-2.3.0+cu118 CPU (AMD Ryzen 5 7600X 6-Core Processor)\n",
      "Model summary (fused): 168 layers, 3007208 parameters, 0 gradients, 8.1 GFLOPs\n",
      "\n",
      "\u001b[34m\u001b[1mPyTorch:\u001b[0m starting from 'best.pt' with input shape (1, 3, 1024, 1024) BCHW and output shape(s) (1, 12, 21504) (6.0 MB)\n",
      "\n",
      "\u001b[34m\u001b[1mONNX:\u001b[0m starting export with onnx 1.16.0 opset 17...\n",
      "\u001b[34m\u001b[1mONNX:\u001b[0m export success ✅ 0.7s, saved as 'best.onnx' (11.9 MB)\n",
      "\n",
      "Export complete (2.4s)\n",
      "Results saved to \u001b[1m/mnt/c/Users/jason/GitHubRepos/LectorAI-TextExtraction\u001b[0m\n",
      "Predict:         yolo predict task=detect model=best.onnx imgsz=1024  \n",
      "Validate:        yolo val task=detect model=best.onnx imgsz=1024 data=workspace/mix_up_data/YOLO_txt_main_sub/main_Dataset/data_main.yaml  \n",
      "Visualize:       https://netron.app\n"
     ]
    }
   ],
   "source": [
    "# Load YOLOv8 model\n",
    "model = YOLO('best.pt')  # Replace with your model path\n",
    "\n",
    "# Convert to ONNX\n",
    "success = model.export(format='onnx') \n",
    "\n",
    "if not success:\n",
    "    raise RuntimeError(\"ONNX export failed\")\n"
   ]
  },
  {
   "cell_type": "code",
   "execution_count": 4,
   "metadata": {},
   "outputs": [
    {
     "name": "stderr",
     "output_type": "stream",
     "text": [
      "2024-05-16 23:28:56.045967: E external/local_xla/xla/stream_executor/cuda/cuda_driver.cc:274] failed call to cuInit: CUDA_ERROR_NO_DEVICE: no CUDA-capable device is detected\n"
     ]
    },
    {
     "name": "stdout",
     "output_type": "stream",
     "text": [
      "WARNING:tensorflow:From /home/sonotokay/miniconda3/envs/everything/lib/python3.10/site-packages/tensorflow/python/util/dispatch.py:1260: resize_nearest_neighbor (from tensorflow.python.ops.image_ops_impl) is deprecated and will be removed in a future version.\n",
      "Instructions for updating:\n",
      "Use `tf.image.resize(...method=ResizeMethod.NEAREST_NEIGHBOR...)` instead.\n"
     ]
    },
    {
     "name": "stderr",
     "output_type": "stream",
     "text": [
      "INFO:absl:Function `__call__` contains input name(s) x, y with unsupported characters which will be renamed to transpose_196_x, add_44_y in the SavedModel.\n",
      "INFO:absl:Found untraced functions such as gen_tensor_dict while saving (showing 1 of 1). These functions will not be directly callable after loading.\n"
     ]
    },
    {
     "name": "stdout",
     "output_type": "stream",
     "text": [
      "INFO:tensorflow:Assets written to: try/tf_model/assets\n"
     ]
    },
    {
     "name": "stderr",
     "output_type": "stream",
     "text": [
      "INFO:tensorflow:Assets written to: try/tf_model/assets\n",
      "INFO:absl:Writing fingerprint to try/tf_model/fingerprint.pb\n"
     ]
    }
   ],
   "source": [
    "# Load ONNX model\n",
    "onnx_model = onnx.load('best.onnx')  # Replace with your ONNX file path\n",
    "\n",
    "# Prepare TensorFlow model (includes weights)\n",
    "tf_rep = prepare(onnx_model)\n",
    "\n",
    "# Export TensorFlow SavedModel (includes weights)\n",
    "tf_rep.export_graph(\"try/tf_model\")\n"
   ]
  },
  {
   "cell_type": "code",
   "execution_count": 15,
   "metadata": {},
   "outputs": [
    {
     "name": "stderr",
     "output_type": "stream",
     "text": [
      "2024-05-16 23:38:19.754745: W tensorflow/core/grappler/optimizers/loop_optimizer.cc:933] Skipping loop optimization for Merge node with control input: StatefulPartitionedCall/assert_equal_1/Assert/AssertGuard/branch_executed/_139\n"
     ]
    },
    {
     "ename": "KeyError",
     "evalue": "'output1'",
     "output_type": "error",
     "traceback": [
      "\u001b[0;31m---------------------------------------------------------------------------\u001b[0m",
      "\u001b[0;31mKeyError\u001b[0m                                  Traceback (most recent call last)",
      "Cell \u001b[0;32mIn[15], line 14\u001b[0m\n\u001b[1;32m     12\u001b[0m \u001b[38;5;66;03m# Process predictions (boxes, scores, classes)\u001b[39;00m\n\u001b[1;32m     13\u001b[0m boxes \u001b[38;5;241m=\u001b[39m output_dict[\u001b[38;5;124m'\u001b[39m\u001b[38;5;124moutput0\u001b[39m\u001b[38;5;124m'\u001b[39m]\n\u001b[0;32m---> 14\u001b[0m scores \u001b[38;5;241m=\u001b[39m \u001b[43moutput_dict\u001b[49m\u001b[43m[\u001b[49m\u001b[38;5;124;43m'\u001b[39;49m\u001b[38;5;124;43moutput1\u001b[39;49m\u001b[38;5;124;43m'\u001b[39;49m\u001b[43m]\u001b[49m\n\u001b[1;32m     15\u001b[0m classes \u001b[38;5;241m=\u001b[39m output_dict[\u001b[38;5;124m'\u001b[39m\u001b[38;5;124mclasses\u001b[39m\u001b[38;5;124m'\u001b[39m]\n",
      "\u001b[0;31mKeyError\u001b[0m: 'output1'"
     ]
    }
   ],
   "source": [
    "# Load TensorFlow SavedModel (with weights)\n",
    "tf_model = tf.saved_model.load(\"try/tf_model\")\n",
    "\n",
    "# Make predictions\n",
    "image = cv2.imread(\"data/Jason_Ad_2.jpg\")\n",
    "resized_image = cv2.resize(image, (1024, 1024)) # nathans size\n",
    "resized_image = np.expand_dims(resized_image, axis=0)\n",
    "resized_image = tf.convert_to_tensor(resized_image, dtype=tf.float32)\n",
    "resized_image = tf.transpose(resized_image, perm=[0, 3, 2, 1])\n",
    "output_dict = tf_model(images = resized_image)\n",
    "\n",
    "# Process predictions (boxes, scores, classes)\n",
    "boxes = output_dict['output0']\n",
    "scores = output_dict['output1']\n",
    "classes = output_dict['classes']"
   ]
  }
 ],
 "metadata": {
  "kernelspec": {
   "display_name": "everything",
   "language": "python",
   "name": "python3"
  },
  "language_info": {
   "codemirror_mode": {
    "name": "ipython",
    "version": 3
   },
   "file_extension": ".py",
   "mimetype": "text/x-python",
   "name": "python",
   "nbconvert_exporter": "python",
   "pygments_lexer": "ipython3",
   "version": "3.10.14"
  }
 },
 "nbformat": 4,
 "nbformat_minor": 2
}
